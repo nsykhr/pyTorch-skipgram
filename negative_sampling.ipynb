{
 "cells": [
  {
   "cell_type": "code",
   "execution_count": 1,
   "metadata": {},
   "outputs": [],
   "source": [
    "import numpy as np\n",
    "from tqdm import tqdm\n",
    "from pprint import pprint\n",
    "from collections import Counter\n",
    "from scipy.special import softmax\n",
    "from typing import List, Tuple, Iterator, Optional\n",
    "\n",
    "import torch\n",
    "from torch import nn\n",
    "from torch import autograd\n",
    "import torch.nn.functional as F\n",
    "\n",
    "from matplotlib import pyplot as plt\n",
    "from sklearn.decomposition import PCA\n",
    "from scipy.spatial.distance import cdist\n",
    "\n",
    "%matplotlib inline"
   ]
  },
  {
   "cell_type": "code",
   "execution_count": 2,
   "metadata": {},
   "outputs": [],
   "source": [
    "with open('text8.txt') as f:\n",
    "    corpus = f.read()"
   ]
  },
  {
   "cell_type": "code",
   "execution_count": 3,
   "metadata": {},
   "outputs": [
    {
     "data": {
      "text/plain": [
       "17005207"
      ]
     },
     "execution_count": 3,
     "metadata": {},
     "output_type": "execute_result"
    }
   ],
   "source": [
    "len(corpus.split())"
   ]
  },
  {
   "cell_type": "code",
   "execution_count": 4,
   "metadata": {},
   "outputs": [],
   "source": [
    "class SkipGramNSDataIterator:\n",
    "    def __init__(self,\n",
    "                 corpus: str,\n",
    "                 window_size: int,\n",
    "                 batch_size: int,\n",
    "                 vocab_size: int = 100000,\n",
    "                 use_padding: bool = True,\n",
    "                 negative: int = 20) -> None:\n",
    "        self.corpus = self.__tokenize(corpus.strip())\n",
    "        self.window_size = window_size\n",
    "        self.batch_size = batch_size\n",
    "        self.vocab_size = vocab_size\n",
    "        self.use_padding = use_padding\n",
    "        self.negative = negative\n",
    "        \n",
    "        self.pad = '<PAD>'\n",
    "        self.unk = '<UNK>'\n",
    "        self.word2idx = {self.pad: 0, self.unk: 1}\n",
    "        self.idx2word = {0: self.pad, 1: self.unk}\n",
    "        self.distr = None\n",
    "        self.vocab_range = None\n",
    "        \n",
    "        self.__build_vocabulary()\n",
    "    \n",
    "    @staticmethod\n",
    "    def __tokenize(text: str) -> List[str]:\n",
    "        return text.split()\n",
    "    \n",
    "    def __build_vocabulary(self) -> None:\n",
    "        print(f'Bulding vocabulary of size {self.vocab_size}...')\n",
    "\n",
    "        word_counts = Counter(self.corpus)\n",
    "        vocab = [word for word, _ in sorted(word_counts.items(),\n",
    "                                            key=lambda x: x[1],\n",
    "                                            reverse=True)[:self.vocab_size - 2]]\n",
    "        self.distr = softmax(np.power(\n",
    "            (1 / np.array([word_counts[word] for word in vocab])), 0.75\n",
    "        ))\n",
    "        \n",
    "        for i, word in enumerate(vocab):\n",
    "            self.word2idx[word] = i+2\n",
    "            self.idx2word[i+2] = word\n",
    "        \n",
    "        self.vocab_size = len(vocab)+2\n",
    "        self.vocab_range = np.arange(self.vocab_size-2)\n",
    "        \n",
    "        print(f'Vocabulary built. Resulting size: {self.vocab_size}.')\n",
    "    \n",
    "    def __sample(self) -> np.ndarray:\n",
    "        return np.random.choice(self.vocab_range, size=self.negative, p=self.distr)\n",
    "    \n",
    "    def __preprocess_batch(self, batch: List[str], use_padding: Optional[bool] = None) -> torch.LongTensor:\n",
    "        if use_padding is None:\n",
    "            use_padding = self.use_padding\n",
    "        \n",
    "        if use_padding and len(batch) < self.window_size * 2:\n",
    "            batch = [self.pad] * ((self.window_size * 2) - len(batch)) + batch\n",
    "            \n",
    "        output = [self.word2idx.get(word, self.word2idx[self.unk]) for word in batch]\n",
    "            \n",
    "        return torch.LongTensor(output)\n",
    "    \n",
    "    def indices_to_words(self, indices: torch.LongTensor) -> List[str]:\n",
    "        return [[self.idx2word[idx] for idx in batch] for batch in indices]\n",
    "        \n",
    "    def generate_batch(self) -> Iterator[Tuple[torch.LongTensor, torch.Tensor]]:\n",
    "        batch_inp, batch_target = [], []\n",
    "        \n",
    "        for i, center in np.random.permutation(list(enumerate(self.corpus))):\n",
    "            i = int(i)\n",
    "            center_id = self.__preprocess_batch([center], use_padding=False)\n",
    "            for context_id in self.__preprocess_batch(\n",
    "                    self.corpus[max(i-self.window_size, 0):i] + self.corpus[i+1:i+self.window_size+1]):\n",
    "                batch_inp.append(torch.LongTensor([center_id, context_id]))\n",
    "                batch_target.append(1)\n",
    "                \n",
    "                if len(batch_inp) == self.batch_size:\n",
    "                    yield torch.stack(batch_inp), torch.Tensor(batch_target)\n",
    "                    batch_inp, batch_target = [], []\n",
    "            \n",
    "            for negative_id in self.__sample():\n",
    "                batch_inp.append(torch.LongTensor([center_id, negative_id+2]))\n",
    "                batch_target.append(0)\n",
    "                \n",
    "                if len(batch_inp) == self.batch_size:\n",
    "                    yield torch.stack(batch_inp), torch.Tensor(batch_target)\n",
    "                    batch_inp, batch_target = [], []\n",
    "                \n",
    "        yield torch.stack(batch_inp), torch.Tensor(batch_target)"
   ]
  },
  {
   "cell_type": "code",
   "execution_count": 5,
   "metadata": {},
   "outputs": [],
   "source": [
    "class SkipGramNSModel(nn.Module):\n",
    "    def __init__(self,\n",
    "                 hidden_size: int,\n",
    "                 vocab_size: int) -> None:\n",
    "        super().__init__()\n",
    "        self.__hidden_size = hidden_size\n",
    "        self.V = nn.Linear(vocab_size, hidden_size)\n",
    "        self.U = nn.Linear(vocab_size, hidden_size)\n",
    "        \n",
    "    def forward(self, center: torch.Tensor, context: torch.Tensor) -> torch.Tensor:\n",
    "        center_embedding = self.V(center)\n",
    "        context_embedding = self.U(context)\n",
    "        \n",
    "        return torch.bmm(center_embedding.view(-1, 1, self.__hidden_size),\n",
    "                         context_embedding.view(-1, self.__hidden_size, 1))[:, 0, 0]"
   ]
  },
  {
   "cell_type": "code",
   "execution_count": 6,
   "metadata": {},
   "outputs": [],
   "source": [
    "class SkipGramNSTrainer:\n",
    "    def __init__(self,\n",
    "                 corpus: str,\n",
    "                 window_size: int,\n",
    "                 hidden_size: int,\n",
    "                 vocab_size: int = 100000,\n",
    "                 use_padding: bool = True,\n",
    "                 negative: int = 20,\n",
    "                 batch_size: int = 2048,\n",
    "                 num_epochs: int = 10,\n",
    "                 learning_rate: float = 0.001,\n",
    "                 cuda_device: int = 0) -> None:\n",
    "        \n",
    "        self.iterator = SkipGramNSDataIterator(corpus, window_size, batch_size,\n",
    "                                               vocab_size, use_padding, negative)\n",
    "        self.vocab_size = self.iterator.vocab_size\n",
    "        self.model = SkipGramNSModel(hidden_size, self.vocab_size)\n",
    "        \n",
    "        self.device = torch.device(f'cuda:{cuda_device}') \\\n",
    "                if cuda_device >= 0 else torch.device('cpu')\n",
    "        if cuda_device >= 0:\n",
    "            self.model = self.model.cuda(self.device)\n",
    "        \n",
    "        self.num_epochs = num_epochs\n",
    "        self.loss = nn.BCEWithLogitsLoss()\n",
    "        self.optimizer = torch.optim.Adam(self.model.parameters(), lr=learning_rate)\n",
    "        \n",
    "    def train(self, print_every: int = 10000) -> List[torch.Tensor]:\n",
    "        \n",
    "        losses = []\n",
    "        \n",
    "        for epoch in range(self.num_epochs):\n",
    "            total_loss = torch.Tensor([0])\n",
    "            print(f'Epoch {epoch+1}/{self.num_epochs}')\n",
    "            \n",
    "            for i, (inp, target) in enumerate(self.iterator.generate_batch()):\n",
    "                self.optimizer.zero_grad()\n",
    "                \n",
    "                inp_var = autograd.Variable(\n",
    "                    F.one_hot(inp.to(self.device), self.vocab_size).float()\n",
    "                )\n",
    "                out = self.model(inp_var[:, 0, :].view(-1, self.vocab_size),\n",
    "                                 inp_var[:, 1, :].view(-1, self.vocab_size))\n",
    "                \n",
    "                loss = self.loss(out, target.to(self.device))\n",
    "                loss.backward()\n",
    "                self.optimizer.step()\n",
    "                \n",
    "                total_loss += loss.detach().item()\n",
    "                \n",
    "                if i % print_every == 0:\n",
    "                    print(f'{i} iterations... Current loss: {loss.detach().item():.2f}.')\n",
    "                    \n",
    "            losses.append(total_loss)\n",
    "            print()\n",
    "        \n",
    "        return losses"
   ]
  },
  {
   "cell_type": "code",
   "execution_count": 7,
   "metadata": {},
   "outputs": [
    {
     "name": "stdout",
     "output_type": "stream",
     "text": [
      "Bulding vocabulary of size 100000...\n",
      "Vocabulary built. Resulting size: 100000.\n"
     ]
    }
   ],
   "source": [
    "trainer = SkipGramNSTrainer(\n",
    "    corpus,\n",
    "    window_size=5,\n",
    "    hidden_size=100,\n",
    "    use_padding=False,\n",
    "    negative=5,\n",
    "    num_epochs=3\n",
    ")"
   ]
  },
  {
   "cell_type": "code",
   "execution_count": 8,
   "metadata": {
    "scrolled": false
   },
   "outputs": [
    {
     "name": "stdout",
     "output_type": "stream",
     "text": [
      "Epoch 1/3\n",
      "0 iterations... Current loss: 0.69.\n",
      "10000 iterations... Current loss: 0.21.\n",
      "20000 iterations... Current loss: 0.20.\n",
      "30000 iterations... Current loss: 0.21.\n",
      "40000 iterations... Current loss: 0.21.\n",
      "50000 iterations... Current loss: 0.22.\n",
      "60000 iterations... Current loss: 0.20.\n",
      "70000 iterations... Current loss: 0.20.\n",
      "80000 iterations... Current loss: 0.18.\n",
      "90000 iterations... Current loss: 0.21.\n",
      "100000 iterations... Current loss: 0.19.\n",
      "110000 iterations... Current loss: 0.20.\n",
      "120000 iterations... Current loss: 0.19.\n",
      "\n",
      "Epoch 2/3\n",
      "0 iterations... Current loss: 0.19.\n",
      "10000 iterations... Current loss: 0.18.\n",
      "20000 iterations... Current loss: 0.20.\n",
      "30000 iterations... Current loss: 0.22.\n",
      "40000 iterations... Current loss: 0.18.\n",
      "50000 iterations... Current loss: 0.19.\n",
      "60000 iterations... Current loss: 0.20.\n",
      "70000 iterations... Current loss: 0.20.\n",
      "80000 iterations... Current loss: 0.17.\n",
      "90000 iterations... Current loss: 0.19.\n",
      "100000 iterations... Current loss: 0.21.\n",
      "110000 iterations... Current loss: 0.20.\n",
      "120000 iterations... Current loss: 0.18.\n",
      "\n",
      "Epoch 3/3\n",
      "0 iterations... Current loss: 0.19.\n",
      "10000 iterations... Current loss: 0.19.\n",
      "20000 iterations... Current loss: 0.18.\n",
      "30000 iterations... Current loss: 0.19.\n",
      "40000 iterations... Current loss: 0.18.\n",
      "50000 iterations... Current loss: 0.17.\n",
      "60000 iterations... Current loss: 0.17.\n",
      "70000 iterations... Current loss: 0.20.\n",
      "80000 iterations... Current loss: 0.21.\n",
      "90000 iterations... Current loss: 0.16.\n",
      "100000 iterations... Current loss: 0.17.\n",
      "110000 iterations... Current loss: 0.17.\n",
      "120000 iterations... Current loss: 0.18.\n",
      "\n"
     ]
    }
   ],
   "source": [
    "losses = trainer.train()"
   ]
  },
  {
   "cell_type": "markdown",
   "metadata": {},
   "source": [
    "# Embedding lookup"
   ]
  },
  {
   "cell_type": "code",
   "execution_count": 9,
   "metadata": {},
   "outputs": [],
   "source": [
    "def get_embedding(trainer, word: str) -> np.ndarray:\n",
    "    idx = trainer.iterator.word2idx.get(word, None)\n",
    "    if idx is not None:\n",
    "        inp = torch.zeros(trainer.vocab_size)\n",
    "        inp[idx] = 1\n",
    "        inp = inp.to(trainer.device)\n",
    "        \n",
    "        return trainer.model.V(inp).detach().cpu().numpy() + \\\n",
    "                trainer.model.U(inp).detach().cpu().numpy()"
   ]
  },
  {
   "cell_type": "code",
   "execution_count": 10,
   "metadata": {},
   "outputs": [],
   "source": [
    "def get_embeddings(trainer, words: List[str]) -> Tuple[np.ndarray, List[str]]:\n",
    "    embedding_matrix, words_found = [], []\n",
    "    \n",
    "    for word in words:\n",
    "        emb = get_embedding(trainer, word)\n",
    "        if emb is not None:\n",
    "            embedding_matrix.append(emb)\n",
    "            words_found.append(word)\n",
    "    \n",
    "    return np.vstack(embedding_matrix), words_found"
   ]
  },
  {
   "cell_type": "markdown",
   "metadata": {},
   "source": [
    "# Embeddings visualization"
   ]
  },
  {
   "cell_type": "code",
   "execution_count": 11,
   "metadata": {},
   "outputs": [],
   "source": [
    "def plot_embeddings(trainer, words: List[str]):\n",
    "    pca = PCA(2)\n",
    "    embedding_matrix, words_found = get_embeddings(trainer, words)\n",
    "    embedding_pca = pca.fit_transform(embedding_matrix)\n",
    "    \n",
    "    plt.figure(figsize=(10, 5))\n",
    "    for word, embedding in zip(words_found, embedding_pca):\n",
    "        plt.scatter(embedding[0], embedding[1], marker='x', color='red')\n",
    "        plt.text(embedding[0] + 0.01, embedding[1] + 0.01, word, fontsize=9)\n",
    "    plt.show()"
   ]
  },
  {
   "cell_type": "code",
   "execution_count": 12,
   "metadata": {},
   "outputs": [
    {
     "data": {
      "image/png": "[encoded data removed]",
      "text/plain": [
       "<Figure size 720x360 with 1 Axes>"
      ]
     },
     "metadata": {
      "needs_background": "light"
     },
     "output_type": "display_data"
    }
   ],
   "source": [
    "plot_embeddings(trainer, ['school', 'university', 'teacher', 'professor',\n",
    "                          'grade', 'paper', 'class', 'lesson', 'exam', 'prom',\n",
    "                          'academy', 'education', 'college', 'exams', 'gpa',\n",
    "                          'food', 'spaghetti', 'beer', 'wine', 'burger', 'steak'])"
   ]
  },
  {
   "cell_type": "markdown",
   "metadata": {},
   "source": [
    "# Intrinsic evaluation"
   ]
  },
  {
   "cell_type": "code",
   "execution_count": 13,
   "metadata": {},
   "outputs": [],
   "source": [
    "embedding_matrix = np.vstack([\n",
    "    get_embedding(trainer, word) for word in trainer.iterator.word2idx\n",
    "])"
   ]
  },
  {
   "cell_type": "code",
   "execution_count": 14,
   "metadata": {},
   "outputs": [
    {
     "name": "stderr",
     "output_type": "stream",
     "text": [
      "100%|██████████| 19559/19559 [07:15<00:00, 44.96it/s]\n"
     ]
    }
   ],
   "source": [
    "results = {}\n",
    "\n",
    "with open('questions-words.txt', 'r') as f:\n",
    "    for line in tqdm(f.read().split('\\n')):\n",
    "        analogy = line.split()\n",
    "        if not analogy:\n",
    "            continue\n",
    "            \n",
    "        if ':' in line:\n",
    "            curr_topic = analogy[-1]\n",
    "            results[curr_topic] = {'total': 0, 'correct': 0}\n",
    "            continue\n",
    "            \n",
    "        if any(word.lower() not in trainer.iterator.word2idx for word in analogy):\n",
    "            continue\n",
    "\n",
    "        results[curr_topic]['total'] += 1\n",
    "        word1, word2, word3, word4 = analogy\n",
    "        candidate = (get_embedding(trainer, word2.lower()) - get_embedding(trainer, word1.lower()) +\n",
    "                     get_embedding(trainer, word3.lower())).reshape(1, -1)\n",
    "        closest = trainer.iterator.idx2word[\n",
    "            np.argmin(cdist(candidate, embedding_matrix, metric='cosine').reshape(-1))\n",
    "        ]\n",
    "\n",
    "        if closest.lower() == word4.lower():\n",
    "            results[curr_topic]['correct'] += 1"
   ]
  },
  {
   "cell_type": "code",
   "execution_count": 15,
   "metadata": {},
   "outputs": [
    {
     "name": "stdout",
     "output_type": "stream",
     "text": [
      "{'capital-common-countries': {'correct': 95, 'total': 506},\n",
      " 'capital-world': {'correct': 284, 'total': 3634},\n",
      " 'city-in-state': {'correct': 16, 'total': 2330},\n",
      " 'currency': {'correct': 3, 'total': 866},\n",
      " 'family': {'correct': 8, 'total': 420},\n",
      " 'gram1-adjective-to-adverb': {'correct': 2, 'total': 992},\n",
      " 'gram2-opposite': {'correct': 5, 'total': 756},\n",
      " 'gram3-comparative': {'correct': 46, 'total': 1332},\n",
      " 'gram4-superlative': {'correct': 8, 'total': 992},\n",
      " 'gram5-present-participle': {'correct': 1, 'total': 1056},\n",
      " 'gram6-nationality-adjective': {'correct': 192, 'total': 1599},\n",
      " 'gram7-past-tense': {'correct': 20, 'total': 1560},\n",
      " 'gram8-plural': {'correct': 18, 'total': 1332},\n",
      " 'gram9-plural-verbs': {'correct': 11, 'total': 870}}\n"
     ]
    }
   ],
   "source": [
    "pprint(results)"
   ]
  },
  {
   "cell_type": "code",
   "execution_count": null,
   "metadata": {},
   "outputs": [],
   "source": []
  }
 ],
 "metadata": {
  "kernelspec": {
   "display_name": "Python 3",
   "language": "python",
   "name": "python3"
  },
  "language_info": {
   "codemirror_mode": {
    "name": "ipython",
    "version": 3
   },
   "file_extension": ".py",
   "mimetype": "text/x-python",
   "name": "python",
   "nbconvert_exporter": "python",
   "pygments_lexer": "ipython3",
   "version": "3.6.8"
  }
 },
 "nbformat": 4,
 "nbformat_minor": 2
}
