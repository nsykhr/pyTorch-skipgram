{
 "cells": [
  {
   "cell_type": "code",
   "execution_count": 1,
   "metadata": {},
   "outputs": [],
   "source": [
    "import numpy as np\n",
    "from tqdm import tqdm\n",
    "from pprint import pprint\n",
    "from collections import Counter\n",
    "from typing import List, Tuple, Iterator, Optional\n",
    "\n",
    "import torch\n",
    "from torch import nn\n",
    "from torch import autograd\n",
    "import torch.nn.functional as F\n",
    "from torch.optim.lr_scheduler import StepLR\n",
    "\n",
    "from matplotlib import pyplot as plt\n",
    "from sklearn.decomposition import PCA\n",
    "from scipy.spatial.distance import cdist\n",
    "\n",
    "%matplotlib inline"
   ]
  },
  {
   "cell_type": "code",
   "execution_count": 2,
   "metadata": {},
   "outputs": [],
   "source": [
    "with open('text8.txt') as f:\n",
    "    corpus = f.read()"
   ]
  },
  {
   "cell_type": "code",
   "execution_count": 3,
   "metadata": {},
   "outputs": [
    {
     "data": {
      "text/plain": [
       "17005207"
      ]
     },
     "execution_count": 3,
     "metadata": {},
     "output_type": "execute_result"
    }
   ],
   "source": [
    "len(corpus.split())"
   ]
  },
  {
   "cell_type": "code",
   "execution_count": 4,
   "metadata": {},
   "outputs": [],
   "source": [
    "class SkipGramDataIterator:\n",
    "    def __init__(self,\n",
    "                 corpus: str,\n",
    "                 window_size: int,\n",
    "                 batch_size: int,\n",
    "                 vocab_size: int = 100000,\n",
    "                 use_padding: bool = True) -> None:\n",
    "        self.corpus = self.__tokenize(corpus.strip())\n",
    "        self.window_size = window_size\n",
    "        self.batch_size = batch_size\n",
    "        self.vocab_size = vocab_size\n",
    "        self.use_padding = use_padding\n",
    "        \n",
    "        self.pad = '<PAD>'\n",
    "        self.unk = '<UNK>'\n",
    "        self.word2idx = {self.pad: 0, self.unk: 1}\n",
    "        self.idx2word = {0: self.pad, 1: self.unk}\n",
    "        \n",
    "        self.__build_vocabulary()\n",
    "        self.corpus = self.__preprocess_batch(self.corpus, use_padding=False)\n",
    "    \n",
    "    @staticmethod\n",
    "    def __tokenize(text: str) -> List[str]:\n",
    "        return text.split()\n",
    "    \n",
    "    def __build_vocabulary(self) -> None:\n",
    "        print(f'Building vocabulary of size {self.vocab_size}...')\n",
    "\n",
    "        word_counts = Counter(self.corpus)\n",
    "        vocab = [word for word, _ in sorted(word_counts.items(),\n",
    "                                            key=lambda x: x[1],\n",
    "                                            reverse=True)[:self.vocab_size - 2]]\n",
    "        for i, word in enumerate(vocab):\n",
    "            self.word2idx[word] = i+2\n",
    "            self.idx2word[i+2] = word\n",
    "        \n",
    "        self.vocab_size = len(vocab)+2\n",
    "        print(f'Vocabulary built. Resulting size: {self.vocab_size}.')\n",
    "    \n",
    "    def __preprocess_batch(self, batch: List[str], use_padding: Optional[bool] = None) -> torch.LongTensor:\n",
    "        if use_padding is None:\n",
    "            use_padding = self.use_padding\n",
    "        \n",
    "        if use_padding and len(batch) < self.window_size * 2:\n",
    "            batch = [self.pad] * ((self.window_size * 2) - len(batch)) + batch\n",
    "            \n",
    "        output = [self.word2idx.get(word, self.word2idx[self.unk]) for word in batch]\n",
    "        \n",
    "        return torch.LongTensor(output)\n",
    "    \n",
    "    def indices_to_words(self, indices: torch.LongTensor) -> List[str]:\n",
    "        return [[self.idx2word[idx] for idx in batch] for batch in indices]\n",
    "        \n",
    "    def generate_batch(self) -> Iterator[Tuple[torch.LongTensor, torch.LongTensor]]:\n",
    "        batch_inp, batch_target = [], []\n",
    "        \n",
    "        for i in tqdm(np.random.permutation(range(self.corpus.size(0)))):\n",
    "            inp = self.corpus[i]\n",
    "            target = torch.cat((self.corpus[max(i-self.window_size, 0):i],\n",
    "                                self.corpus[i+1:i+self.window_size+1]))\n",
    "            \n",
    "            if target.size(0) < self.window_size * 2:\n",
    "                pad_length = self.window_size * 2 - target.size(0)\n",
    "                target = torch.cat((torch.ones(pad_length).long() * self.word2idx[self.pad], target))\n",
    "            \n",
    "            batch_inp.append(inp.unsqueeze(0))\n",
    "            batch_target.append(target)\n",
    "            \n",
    "            if len(batch_inp) == self.batch_size:\n",
    "                yield torch.cat(batch_inp), torch.stack(batch_target)\n",
    "                batch_inp, batch_target = [], []\n",
    "        \n",
    "        if batch_inp and batch_target:\n",
    "            yield torch.cat(batch_inp), torch.stack(batch_target)"
   ]
  },
  {
   "cell_type": "code",
   "execution_count": 5,
   "metadata": {},
   "outputs": [],
   "source": [
    "class SkipGramModel(nn.Module):\n",
    "    def __init__(self,\n",
    "                 hidden_size: int,\n",
    "                 vocab_size: int) -> None:\n",
    "        super().__init__()\n",
    "        self.V = nn.Parameter(torch.empty(vocab_size, hidden_size))\n",
    "        self.U = nn.Parameter(torch.empty(vocab_size, hidden_size))\n",
    "        \n",
    "        nn.init.xavier_uniform_(self.V)\n",
    "        nn.init.xavier_uniform_(self.U)\n",
    "        \n",
    "    def forward(self, inp: torch.Tensor, target: torch.Tensor) -> Tuple[torch.Tensor]:\n",
    "        V = torch.matmul(inp, self.V)\n",
    "        U = torch.matmul(target, self.U)\n",
    "        \n",
    "        return V, U"
   ]
  },
  {
   "cell_type": "code",
   "execution_count": 6,
   "metadata": {},
   "outputs": [],
   "source": [
    "class SkipGramTrainer:\n",
    "    def __init__(self,\n",
    "                 corpus: str,\n",
    "                 window_size: int,\n",
    "                 hidden_size: int,\n",
    "                 vocab_size: int = 100000,\n",
    "                 use_padding: bool = True,\n",
    "                 batch_size: int = 2048,\n",
    "                 num_epochs: int = 10,\n",
    "                 lr: float = 0.005,\n",
    "                 min_lr: float = 0.0001,\n",
    "                 lr_step: float = 0.5,\n",
    "                 cuda_device: int = 0) -> None:\n",
    "        \n",
    "        self.iterator = SkipGramDataIterator(corpus, window_size, batch_size, vocab_size, use_padding)\n",
    "        self.window_size = window_size\n",
    "        self.vocab_size = self.iterator.vocab_size\n",
    "        self.model = SkipGramModel(hidden_size, self.vocab_size)\n",
    "        \n",
    "        self.device = torch.device(f'cuda:{cuda_device}') \\\n",
    "                if cuda_device >= 0 else torch.device('cpu')\n",
    "        if cuda_device >= 0:\n",
    "            self.model = self.model.cuda(self.device)\n",
    "        \n",
    "        self.num_epochs = num_epochs\n",
    "        self.loss = nn.CrossEntropyLoss()\n",
    "        self.losses = []\n",
    "        \n",
    "        self.lr = lr\n",
    "        self.min_lr = min_lr\n",
    "        self.lr_step = lr_step\n",
    "        \n",
    "    def train(self) -> List[torch.Tensor]:\n",
    "        self.losses = []\n",
    "        lr = self.lr\n",
    "        \n",
    "        for epoch in range(self.num_epochs):\n",
    "            print(f'Epoch {epoch+1}/{self.num_epochs}')\n",
    "            \n",
    "            optimizer = torch.optim.Adam(self.model.parameters(), lr=lr)\n",
    "            lr = max(lr * self.lr_step, self.min_lr)\n",
    "            \n",
    "            for i, (inp, target) in enumerate(self.iterator.generate_batch()):\n",
    "                optimizer.zero_grad()\n",
    "                \n",
    "                inp_var = autograd.Variable(\n",
    "                    F.one_hot(inp.to(self.device), self.vocab_size).float()\n",
    "                )\n",
    "                target_var = autograd.Variable(\n",
    "                    F.one_hot(target.to(self.device), self.vocab_size).float()\n",
    "                )\n",
    "                \n",
    "                # V: (batch_size X hidden_size)\n",
    "                # U: (batch_size X 2*window_size X hidden_size)\n",
    "                V, U = self.model(inp_var, target_var)\n",
    "                \n",
    "                # self.model.U: (vocab_size X hidden_size)\n",
    "                loss = torch.mean(\n",
    "                    -torch.sum(torch.bmm(U, V.unsqueeze(-1)).squeeze(-1), dim=-1) + \\\n",
    "                    2*self.window_size*torch.log(torch.sum(\n",
    "                    torch.exp(torch.matmul(V, self.model.U.transpose(0, 1))), dim=-1))\n",
    "                )\n",
    "                loss_value = loss.item()\n",
    "                self.losses.append(loss_value)\n",
    "                \n",
    "                loss.backward()\n",
    "                optimizer.step()\n",
    "            \n",
    "            print(f'Loss: {loss_value:.2f}.\\n')\n",
    "        \n",
    "        return self.losses"
   ]
  },
  {
   "cell_type": "code",
   "execution_count": 7,
   "metadata": {},
   "outputs": [
    {
     "name": "stdout",
     "output_type": "stream",
     "text": [
      "Building vocabulary of size 100000...\n",
      "Vocabulary built. Resulting size: 100000.\n"
     ]
    }
   ],
   "source": [
    "trainer = SkipGramTrainer(\n",
    "    corpus,\n",
    "    window_size=10,\n",
    "    hidden_size=100,\n",
    "    vocab_size=100000,\n",
    "    batch_size=240,\n",
    "    num_epochs=10\n",
    ")"
   ]
  },
  {
   "cell_type": "code",
   "execution_count": 8,
   "metadata": {},
   "outputs": [
    {
     "name": "stderr",
     "output_type": "stream",
     "text": [
      "  0%|          | 480/17005207 [00:00<1:18:50, 3594.35it/s]"
     ]
    },
    {
     "name": "stdout",
     "output_type": "stream",
     "text": [
      "Epoch 1/10\n"
     ]
    },
    {
     "name": "stderr",
     "output_type": "stream",
     "text": [
      "100%|██████████| 17005207/17005207 [1:03:37<00:00, 4454.45it/s]\n"
     ]
    },
    {
     "name": "stdout",
     "output_type": "stream",
     "text": [
      "Loss: 143.69.\n",
      "\n",
      "Epoch 2/10\n"
     ]
    },
    {
     "name": "stderr",
     "output_type": "stream",
     "text": [
      "100%|██████████| 17005207/17005207 [1:03:35<00:00, 4456.64it/s]\n",
      "  0%|          | 0/17005207 [00:00<?, ?it/s]"
     ]
    },
    {
     "name": "stdout",
     "output_type": "stream",
     "text": [
      "Loss: 151.15.\n",
      "\n",
      "Epoch 3/10\n"
     ]
    },
    {
     "name": "stderr",
     "output_type": "stream",
     "text": [
      "100%|██████████| 17005207/17005207 [1:03:37<00:00, 4454.56it/s]\n",
      "  0%|          | 0/17005207 [00:00<?, ?it/s]"
     ]
    },
    {
     "name": "stdout",
     "output_type": "stream",
     "text": [
      "Loss: 147.74.\n",
      "\n",
      "Epoch 4/10\n"
     ]
    },
    {
     "name": "stderr",
     "output_type": "stream",
     "text": [
      "100%|██████████| 17005207/17005207 [1:04:05<00:00, 4422.34it/s]\n",
      "  0%|          | 0/17005207 [00:00<?, ?it/s]"
     ]
    },
    {
     "name": "stdout",
     "output_type": "stream",
     "text": [
      "Loss: 150.76.\n",
      "\n",
      "Epoch 5/10\n"
     ]
    },
    {
     "name": "stderr",
     "output_type": "stream",
     "text": [
      "100%|██████████| 17005207/17005207 [1:04:13<00:00, 4413.16it/s]\n",
      "  0%|          | 0/17005207 [00:00<?, ?it/s]"
     ]
    },
    {
     "name": "stdout",
     "output_type": "stream",
     "text": [
      "Loss: 135.69.\n",
      "\n",
      "Epoch 6/10\n"
     ]
    },
    {
     "name": "stderr",
     "output_type": "stream",
     "text": [
      "100%|██████████| 17005207/17005207 [1:04:20<00:00, 4404.53it/s]\n",
      "  0%|          | 0/17005207 [00:00<?, ?it/s]"
     ]
    },
    {
     "name": "stdout",
     "output_type": "stream",
     "text": [
      "Loss: 132.23.\n",
      "\n",
      "Epoch 7/10\n"
     ]
    },
    {
     "name": "stderr",
     "output_type": "stream",
     "text": [
      "100%|██████████| 17005207/17005207 [1:04:27<00:00, 4396.96it/s]\n",
      "  0%|          | 0/17005207 [00:00<?, ?it/s]"
     ]
    },
    {
     "name": "stdout",
     "output_type": "stream",
     "text": [
      "Loss: 146.35.\n",
      "\n",
      "Epoch 8/10\n"
     ]
    },
    {
     "name": "stderr",
     "output_type": "stream",
     "text": [
      "100%|██████████| 17005207/17005207 [1:04:28<00:00, 4396.10it/s]\n",
      "  0%|          | 0/17005207 [00:00<?, ?it/s]"
     ]
    },
    {
     "name": "stdout",
     "output_type": "stream",
     "text": [
      "Loss: 142.21.\n",
      "\n",
      "Epoch 9/10\n"
     ]
    },
    {
     "name": "stderr",
     "output_type": "stream",
     "text": [
      "100%|██████████| 17005207/17005207 [1:04:11<00:00, 4415.63it/s]\n",
      "  0%|          | 0/17005207 [00:00<?, ?it/s]"
     ]
    },
    {
     "name": "stdout",
     "output_type": "stream",
     "text": [
      "Loss: 139.60.\n",
      "\n",
      "Epoch 10/10\n"
     ]
    },
    {
     "name": "stderr",
     "output_type": "stream",
     "text": [
      "100%|██████████| 17005207/17005207 [1:04:10<00:00, 4416.62it/s]"
     ]
    },
    {
     "name": "stdout",
     "output_type": "stream",
     "text": [
      "Loss: 153.19.\n",
      "\n"
     ]
    },
    {
     "name": "stderr",
     "output_type": "stream",
     "text": [
      "\n"
     ]
    }
   ],
   "source": [
    "losses = trainer.train()"
   ]
  },
  {
   "cell_type": "markdown",
   "metadata": {},
   "source": [
    "# Training loss visualization"
   ]
  },
  {
   "cell_type": "code",
   "execution_count": 9,
   "metadata": {},
   "outputs": [
    {
     "data": {
      "image/png": "[encoded data removed]",
      "text/plain": [
       "<Figure size 1152x720 with 1 Axes>"
      ]
     },
     "metadata": {
      "needs_background": "light"
     },
     "output_type": "display_data"
    }
   ],
   "source": [
    "plt.figure(figsize=(16, 10))\n",
    "plt.plot(losses)\n",
    "plt.xlabel('Iteration')\n",
    "plt.ylabel('Loss value')\n",
    "plt.show()"
   ]
  },
  {
   "cell_type": "markdown",
   "metadata": {},
   "source": [
    "# Embedding lookup"
   ]
  },
  {
   "cell_type": "code",
   "execution_count": 10,
   "metadata": {},
   "outputs": [],
   "source": [
    "def get_embedding(trainer, word: str) -> np.ndarray:\n",
    "    idx = trainer.iterator.word2idx.get(word, None)\n",
    "    if idx is not None:\n",
    "        return trainer.model.V[idx].detach().cpu().numpy() + trainer.model.U[idx].detach().cpu().numpy()"
   ]
  },
  {
   "cell_type": "code",
   "execution_count": 11,
   "metadata": {},
   "outputs": [],
   "source": [
    "def get_embeddings(trainer, words: List[str]) -> Tuple[np.ndarray, List[str]]:\n",
    "    embedding_matrix, words_found = [], []\n",
    "    \n",
    "    for word in words:\n",
    "        emb = get_embedding(trainer, word)\n",
    "        if emb is not None:\n",
    "            embedding_matrix.append(emb)\n",
    "            words_found.append(word)\n",
    "    \n",
    "    return np.vstack(embedding_matrix), words_found"
   ]
  },
  {
   "cell_type": "markdown",
   "metadata": {},
   "source": [
    "# Embeddings visualization"
   ]
  },
  {
   "cell_type": "code",
   "execution_count": 12,
   "metadata": {},
   "outputs": [],
   "source": [
    "def plot_embeddings(trainer, words: List[str]):\n",
    "    pca = PCA(2)\n",
    "    embedding_matrix, words_found = get_embeddings(trainer, words)\n",
    "    embedding_pca = pca.fit_transform(embedding_matrix)\n",
    "    \n",
    "    plt.figure(figsize=(10, 5))\n",
    "    for word, embedding in zip(words_found, embedding_pca):\n",
    "        plt.scatter(embedding[0], embedding[1], marker='x', color='red')\n",
    "        plt.text(embedding[0] + 0.01, embedding[1] + 0.01, word, fontsize=9)\n",
    "    plt.show()"
   ]
  },
  {
   "cell_type": "code",
   "execution_count": 13,
   "metadata": {},
   "outputs": [
    {
     "data": {
      "image/png": "[encoded data removed]",
      "text/plain": [
       "<Figure size 720x360 with 1 Axes>"
      ]
     },
     "metadata": {
      "needs_background": "light"
     },
     "output_type": "display_data"
    }
   ],
   "source": [
    "plot_embeddings(trainer, ['school', 'university', 'teacher', 'professor',\n",
    "                          'grade', 'paper', 'class', 'lesson', 'exam', 'prom',\n",
    "                          'academy', 'education', 'college', 'exams', 'gpa',\n",
    "                          'food', 'spaghetti', 'beer', 'wine', 'burger', 'steak',\n",
    "                          'kfc', 'meat', 'chicken', 'pork', 'beef'])"
   ]
  },
  {
   "cell_type": "markdown",
   "metadata": {},
   "source": [
    "# Intrinsic evaluation"
   ]
  },
  {
   "cell_type": "code",
   "execution_count": 14,
   "metadata": {},
   "outputs": [],
   "source": [
    "embedding_matrix = np.vstack([\n",
    "    get_embedding(trainer, word) for word in trainer.iterator.word2idx\n",
    "])"
   ]
  },
  {
   "cell_type": "code",
   "execution_count": 15,
   "metadata": {},
   "outputs": [
    {
     "name": "stderr",
     "output_type": "stream",
     "text": [
      "100%|██████████| 19559/19559 [14:17<00:00, 22.82it/s]\n"
     ]
    }
   ],
   "source": [
    "results = {}\n",
    "\n",
    "with open('questions-words.txt', 'r') as f:\n",
    "    for line in tqdm(f.read().split('\\n')):\n",
    "        analogy = line.split()\n",
    "        if not analogy:\n",
    "            continue\n",
    "            \n",
    "        if ':' in line:\n",
    "            curr_topic = analogy[-1]\n",
    "            results[curr_topic] = {'total': 0, 'correct': 0}\n",
    "            continue\n",
    "            \n",
    "        if any(word.lower() not in trainer.iterator.word2idx for word in analogy):\n",
    "            continue\n",
    "\n",
    "        results[curr_topic]['total'] += 1\n",
    "        word1, word2, word3, word4 = analogy\n",
    "        candidate = (get_embedding(trainer, word2.lower()) - get_embedding(trainer, word1.lower()) +\n",
    "                     get_embedding(trainer, word3.lower())).reshape(1, -1)\n",
    "        closest = trainer.iterator.idx2word[\n",
    "            np.argmin(cdist(candidate, embedding_matrix, metric='cosine').reshape(-1))\n",
    "        ]\n",
    "\n",
    "        if closest.lower() == word4.lower():\n",
    "            results[curr_topic]['correct'] += 1"
   ]
  },
  {
   "cell_type": "code",
   "execution_count": 16,
   "metadata": {},
   "outputs": [
    {
     "name": "stdout",
     "output_type": "stream",
     "text": [
      "{'capital-common-countries': {'correct': 260, 'total': 506},\n",
      " 'capital-world': {'correct': 1179, 'total': 3634},\n",
      " 'city-in-state': {'correct': 217, 'total': 2330},\n",
      " 'currency': {'correct': 32, 'total': 866},\n",
      " 'family': {'correct': 75, 'total': 420},\n",
      " 'gram1-adjective-to-adverb': {'correct': 12, 'total': 992},\n",
      " 'gram2-opposite': {'correct': 10, 'total': 756},\n",
      " 'gram3-comparative': {'correct': 242, 'total': 1332},\n",
      " 'gram4-superlative': {'correct': 22, 'total': 992},\n",
      " 'gram5-present-participle': {'correct': 12, 'total': 1056},\n",
      " 'gram6-nationality-adjective': {'correct': 726, 'total': 1599},\n",
      " 'gram7-past-tense': {'correct': 24, 'total': 1560},\n",
      " 'gram8-plural': {'correct': 84, 'total': 1332},\n",
      " 'gram9-plural-verbs': {'correct': 42, 'total': 870}}\n"
     ]
    }
   ],
   "source": [
    "pprint(results)"
   ]
  },
  {
   "cell_type": "markdown",
   "metadata": {},
   "source": [
    "Apparently our model is mediocre, to say the least, at resolving analogies."
   ]
  },
  {
   "cell_type": "code",
   "execution_count": null,
   "metadata": {},
   "outputs": [],
   "source": []
  }
 ],
 "metadata": {
  "kernelspec": {
   "display_name": "Python 3",
   "language": "python",
   "name": "python3"
  },
  "language_info": {
   "codemirror_mode": {
    "name": "ipython",
    "version": 3
   },
   "file_extension": ".py",
   "mimetype": "text/x-python",
   "name": "python",
   "nbconvert_exporter": "python",
   "pygments_lexer": "ipython3",
   "version": "3.7.1"
  }
 },
 "nbformat": 4,
 "nbformat_minor": 2
}
