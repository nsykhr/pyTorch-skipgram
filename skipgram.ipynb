{
 "cells": [
  {
   "cell_type": "code",
   "execution_count": 1,
   "metadata": {},
   "outputs": [],
   "source": [
    "import numpy as np\n",
    "from tqdm import tqdm\n",
    "from pprint import pprint\n",
    "from collections import Counter\n",
    "from typing import List, Tuple, Iterator, Optional\n",
    "\n",
    "import torch\n",
    "from torch import nn\n",
    "from torch import autograd\n",
    "import torch.nn.functional as F\n",
    "\n",
    "from matplotlib import pyplot as plt\n",
    "from sklearn.decomposition import PCA\n",
    "from scipy.spatial.distance import cdist\n",
    "\n",
    "%matplotlib inline"
   ]
  },
  {
   "cell_type": "code",
   "execution_count": 2,
   "metadata": {},
   "outputs": [],
   "source": [
    "with open('text8.txt') as f:\n",
    "    corpus = f.read()"
   ]
  },
  {
   "cell_type": "code",
   "execution_count": 3,
   "metadata": {},
   "outputs": [
    {
     "data": {
      "text/plain": [
       "17005207"
      ]
     },
     "execution_count": 3,
     "metadata": {},
     "output_type": "execute_result"
    }
   ],
   "source": [
    "len(corpus.split())"
   ]
  },
  {
   "cell_type": "code",
   "execution_count": 4,
   "metadata": {},
   "outputs": [],
   "source": [
    "class SkipGramDataIterator:\n",
    "    def __init__(self,\n",
    "                 corpus: str,\n",
    "                 window_size: int,\n",
    "                 batch_size: int,\n",
    "                 vocab_size: int = 100000,\n",
    "                 use_padding: bool = True) -> None:\n",
    "        self.corpus = self.__tokenize(corpus.strip())\n",
    "        self.window_size = window_size\n",
    "        self.batch_size = batch_size\n",
    "        self.vocab_size = vocab_size\n",
    "        self.use_padding = use_padding\n",
    "        \n",
    "        self.pad = '<PAD>'\n",
    "        self.unk = '<UNK>'\n",
    "        self.word2idx = {self.pad: 0, self.unk: 1}\n",
    "        self.idx2word = {0: self.pad, 1: self.unk}\n",
    "        \n",
    "        self.__build_vocabulary()\n",
    "    \n",
    "    @staticmethod\n",
    "    def __tokenize(text: str) -> List[str]:\n",
    "        return text.split()\n",
    "    \n",
    "    def __build_vocabulary(self) -> None:\n",
    "        print(f'Bulding vocabulary of size {self.vocab_size}...')\n",
    "\n",
    "        word_counts = Counter(self.corpus)\n",
    "        vocab = [word for word, _ in sorted(word_counts.items(),\n",
    "                                            key=lambda x: x[1],\n",
    "                                            reverse=True)[:self.vocab_size - 2]]\n",
    "        for i, word in enumerate(vocab):\n",
    "            self.word2idx[word] = i+2\n",
    "            self.idx2word[i+2] = word\n",
    "        \n",
    "        self.vocab_size = len(vocab)+2\n",
    "        print(f'Vocabulary built. Resulting size: {self.vocab_size}.')\n",
    "    \n",
    "    def __preprocess_batch(self, batch: List[str], use_padding: Optional[bool] = None) -> torch.LongTensor:\n",
    "        if use_padding is None:\n",
    "            use_padding = self.use_padding\n",
    "        \n",
    "        if use_padding and len(batch) < self.window_size * 2:\n",
    "            batch = [self.pad] * ((self.window_size * 2) - len(batch)) + batch\n",
    "            \n",
    "        output = [self.word2idx.get(word, self.word2idx[self.unk]) for word in batch]\n",
    "        \n",
    "        return torch.LongTensor(output)\n",
    "    \n",
    "    def indices_to_words(self, indices: torch.LongTensor) -> List[str]:\n",
    "        return [[self.idx2word[idx] for idx in batch] for batch in indices]\n",
    "        \n",
    "    def generate_batch(self) -> Iterator[Tuple[torch.LongTensor, torch.LongTensor]]:\n",
    "        batch_inp, batch_target = [], []\n",
    "        \n",
    "        for i, center in np.random.permutation(list(enumerate(self.corpus))):\n",
    "            i = int(i)\n",
    "            inp = self.__preprocess_batch([center], use_padding=False)\n",
    "            target = self.__preprocess_batch(\n",
    "                self.corpus[max(i-self.window_size, 0):i] + self.corpus[i+1:i+self.window_size+1]\n",
    "            )\n",
    "            \n",
    "            batch_inp.append(inp)\n",
    "            batch_target.append(target)\n",
    "            \n",
    "            if len(batch_inp) == self.batch_size:\n",
    "                yield torch.cat(batch_inp), torch.stack(batch_target)\n",
    "                batch_inp, batch_target = [], []\n",
    "        \n",
    "        yield torch.cat(batch_inp), torch.stack(batch_target)"
   ]
  },
  {
   "cell_type": "code",
   "execution_count": 5,
   "metadata": {},
   "outputs": [],
   "source": [
    "class SkipGramModel(nn.Module):\n",
    "    def __init__(self,\n",
    "                 hidden_size: int,\n",
    "                 vocab_size: int) -> None:\n",
    "        super().__init__()\n",
    "        self.vocab_size = vocab_size\n",
    "        self.WH = nn.Linear(vocab_size, hidden_size)\n",
    "        self.WO = nn.Linear(hidden_size, vocab_size)\n",
    "        \n",
    "    def forward(self, inp: torch.Tensor) -> torch.Tensor:\n",
    "        embedding = self.WH(inp)\n",
    "        output = self.WO(embedding)\n",
    "        \n",
    "        return output"
   ]
  },
  {
   "cell_type": "code",
   "execution_count": 6,
   "metadata": {},
   "outputs": [],
   "source": [
    "class SkipGramTrainer:\n",
    "    def __init__(self,\n",
    "                 corpus: str,\n",
    "                 window_size: int,\n",
    "                 hidden_size: int,\n",
    "                 vocab_size: int = 100000,\n",
    "                 use_padding: bool = True,\n",
    "                 batch_size: int = 2048,\n",
    "                 num_epochs: int = 10,\n",
    "                 learning_rate: float = 0.001,\n",
    "                 cuda_device: int = 0) -> None:\n",
    "        \n",
    "        self.iterator = SkipGramDataIterator(corpus, window_size, batch_size, vocab_size, use_padding)\n",
    "        self.vocab_size = self.iterator.vocab_size\n",
    "        self.model = SkipGramModel(hidden_size, self.vocab_size)\n",
    "        \n",
    "        self.device = torch.device(f'cuda:{cuda_device}') \\\n",
    "                if cuda_device >= 0 else torch.device('cpu')\n",
    "        if cuda_device >= 0:\n",
    "            self.model = self.model.cuda(self.device)\n",
    "        \n",
    "        self.num_epochs = num_epochs\n",
    "        self.loss = nn.CrossEntropyLoss()\n",
    "        self.optimizer = torch.optim.Adam(self.model.parameters(), lr=learning_rate)\n",
    "        \n",
    "    def train(self, print_every: int = 1000) -> List[torch.Tensor]:\n",
    "        \n",
    "        losses = []\n",
    "        \n",
    "        for epoch in range(self.num_epochs):\n",
    "            total_loss = torch.Tensor([0])\n",
    "            print(f'Epoch {epoch+1}/{self.num_epochs}')\n",
    "            \n",
    "            for i, (inp, target) in enumerate(self.iterator.generate_batch()):\n",
    "                self.optimizer.zero_grad()\n",
    "                \n",
    "                inp_var = autograd.Variable(\n",
    "                    F.one_hot(inp.to(self.device), self.vocab_size).float()\n",
    "                )\n",
    "                out = self.model(inp_var)\n",
    "                \n",
    "                loss = torch.sum(torch.stack([\n",
    "                    self.loss(out, word)\n",
    "                    for word in autograd.Variable(target.to(self.device).transpose(0, 1))\n",
    "                ]))\n",
    "                loss.backward()\n",
    "                self.optimizer.step()\n",
    "                \n",
    "                total_loss += loss.detach().item()\n",
    "                \n",
    "                if i % print_every == 0:\n",
    "                    print(f'{i} iterations... Current loss: {loss.detach().item():.2f}.')\n",
    "                    \n",
    "            losses.append(total_loss)\n",
    "            print()\n",
    "        \n",
    "        return losses"
   ]
  },
  {
   "cell_type": "code",
   "execution_count": 7,
   "metadata": {},
   "outputs": [
    {
     "name": "stdout",
     "output_type": "stream",
     "text": [
      "Bulding vocabulary of size 50000...\n",
      "Vocabulary built. Resulting size: 50000.\n"
     ]
    }
   ],
   "source": [
    "trainer = SkipGramTrainer(\n",
    "    corpus,\n",
    "    window_size=10,\n",
    "    hidden_size=100,\n",
    "    vocab_size=50000,\n",
    "    use_padding=True,\n",
    "    num_epochs=10,\n",
    "    batch_size=1024\n",
    ")"
   ]
  },
  {
   "cell_type": "code",
   "execution_count": 8,
   "metadata": {},
   "outputs": [
    {
     "name": "stdout",
     "output_type": "stream",
     "text": [
      "Epoch 1/10\n",
      "0 iterations... Current loss: 216.57.\n",
      "1000 iterations... Current loss: 143.98.\n",
      "2000 iterations... Current loss: 141.91.\n",
      "3000 iterations... Current loss: 141.91.\n",
      "4000 iterations... Current loss: 142.45.\n",
      "5000 iterations... Current loss: 141.15.\n",
      "6000 iterations... Current loss: 142.31.\n",
      "7000 iterations... Current loss: 140.98.\n",
      "8000 iterations... Current loss: 141.78.\n",
      "9000 iterations... Current loss: 141.14.\n",
      "10000 iterations... Current loss: 140.46.\n",
      "11000 iterations... Current loss: 140.52.\n",
      "12000 iterations... Current loss: 141.17.\n",
      "13000 iterations... Current loss: 139.56.\n",
      "14000 iterations... Current loss: 140.76.\n",
      "15000 iterations... Current loss: 140.79.\n",
      "16000 iterations... Current loss: 141.23.\n",
      "\n",
      "Epoch 2/10\n",
      "0 iterations... Current loss: 138.95.\n",
      "1000 iterations... Current loss: 139.81.\n",
      "2000 iterations... Current loss: 139.78.\n",
      "3000 iterations... Current loss: 139.02.\n",
      "4000 iterations... Current loss: 141.21.\n",
      "5000 iterations... Current loss: 139.55.\n",
      "6000 iterations... Current loss: 140.62.\n",
      "7000 iterations... Current loss: 140.72.\n",
      "8000 iterations... Current loss: 139.05.\n",
      "9000 iterations... Current loss: 139.70.\n",
      "10000 iterations... Current loss: 139.69.\n",
      "11000 iterations... Current loss: 139.52.\n",
      "12000 iterations... Current loss: 139.78.\n",
      "13000 iterations... Current loss: 139.26.\n",
      "14000 iterations... Current loss: 140.27.\n",
      "15000 iterations... Current loss: 139.58.\n",
      "16000 iterations... Current loss: 140.54.\n",
      "\n",
      "Epoch 3/10\n",
      "0 iterations... Current loss: 139.27.\n",
      "1000 iterations... Current loss: 138.63.\n",
      "2000 iterations... Current loss: 139.34.\n",
      "3000 iterations... Current loss: 139.05.\n",
      "4000 iterations... Current loss: 139.67.\n",
      "5000 iterations... Current loss: 139.20.\n",
      "6000 iterations... Current loss: 139.21.\n",
      "7000 iterations... Current loss: 139.32.\n",
      "8000 iterations... Current loss: 139.27.\n",
      "9000 iterations... Current loss: 139.11.\n",
      "10000 iterations... Current loss: 139.51.\n",
      "11000 iterations... Current loss: 139.11.\n",
      "12000 iterations... Current loss: 139.30.\n",
      "13000 iterations... Current loss: 139.55.\n",
      "14000 iterations... Current loss: 139.72.\n",
      "15000 iterations... Current loss: 140.83.\n",
      "16000 iterations... Current loss: 139.19.\n",
      "\n",
      "Epoch 4/10\n",
      "0 iterations... Current loss: 138.85.\n",
      "1000 iterations... Current loss: 138.28.\n",
      "2000 iterations... Current loss: 137.87.\n",
      "3000 iterations... Current loss: 138.68.\n",
      "4000 iterations... Current loss: 139.78.\n",
      "5000 iterations... Current loss: 138.48.\n",
      "6000 iterations... Current loss: 139.56.\n",
      "7000 iterations... Current loss: 140.24.\n",
      "8000 iterations... Current loss: 139.44.\n",
      "9000 iterations... Current loss: 139.53.\n",
      "10000 iterations... Current loss: 139.27.\n",
      "11000 iterations... Current loss: 139.47.\n",
      "12000 iterations... Current loss: 139.27.\n",
      "13000 iterations... Current loss: 138.18.\n",
      "14000 iterations... Current loss: 138.87.\n",
      "15000 iterations... Current loss: 139.03.\n",
      "16000 iterations... Current loss: 139.59.\n",
      "\n",
      "Epoch 5/10\n",
      "0 iterations... Current loss: 139.23.\n",
      "1000 iterations... Current loss: 138.36.\n",
      "2000 iterations... Current loss: 138.07.\n",
      "3000 iterations... Current loss: 138.81.\n",
      "4000 iterations... Current loss: 138.76.\n",
      "5000 iterations... Current loss: 139.52.\n",
      "6000 iterations... Current loss: 138.78.\n",
      "7000 iterations... Current loss: 139.26.\n",
      "8000 iterations... Current loss: 139.30.\n",
      "9000 iterations... Current loss: 139.20.\n",
      "10000 iterations... Current loss: 138.18.\n",
      "11000 iterations... Current loss: 138.99.\n",
      "12000 iterations... Current loss: 140.09.\n",
      "13000 iterations... Current loss: 138.52.\n",
      "14000 iterations... Current loss: 138.91.\n",
      "15000 iterations... Current loss: 139.03.\n",
      "16000 iterations... Current loss: 139.91.\n",
      "\n",
      "Epoch 6/10\n",
      "0 iterations... Current loss: 138.80.\n",
      "1000 iterations... Current loss: 138.90.\n",
      "2000 iterations... Current loss: 140.04.\n",
      "3000 iterations... Current loss: 138.20.\n",
      "4000 iterations... Current loss: 138.33.\n",
      "5000 iterations... Current loss: 138.59.\n",
      "6000 iterations... Current loss: 138.77.\n",
      "7000 iterations... Current loss: 138.98.\n",
      "8000 iterations... Current loss: 139.25.\n",
      "9000 iterations... Current loss: 139.43.\n",
      "10000 iterations... Current loss: 139.30.\n",
      "11000 iterations... Current loss: 139.78.\n",
      "12000 iterations... Current loss: 139.05.\n",
      "14000 iterations... Current loss: 138.48.\n",
      "15000 iterations... Current loss: 139.49.\n",
      "16000 iterations... Current loss: 139.68.\n",
      "\n",
      "Epoch 7/10\n",
      "0 iterations... Current loss: 138.12.\n",
      "1000 iterations... Current loss: 139.12.\n",
      "2000 iterations... Current loss: 139.29.\n",
      "3000 iterations... Current loss: 140.12.\n",
      "4000 iterations... Current loss: 139.29.\n",
      "5000 iterations... Current loss: 139.02.\n",
      "6000 iterations... Current loss: 138.54.\n",
      "7000 iterations... Current loss: 138.73.\n",
      "8000 iterations... Current loss: 138.88.\n",
      "9000 iterations... Current loss: 139.17.\n",
      "10000 iterations... Current loss: 139.55.\n",
      "11000 iterations... Current loss: 139.51.\n",
      "12000 iterations... Current loss: 138.45.\n",
      "13000 iterations... Current loss: 139.17.\n",
      "14000 iterations... Current loss: 139.46.\n",
      "15000 iterations... Current loss: 139.88.\n",
      "16000 iterations... Current loss: 139.53.\n",
      "\n",
      "Epoch 8/10\n",
      "0 iterations... Current loss: 138.55.\n",
      "1000 iterations... Current loss: 139.05.\n",
      "2000 iterations... Current loss: 138.56.\n",
      "3000 iterations... Current loss: 138.60.\n",
      "4000 iterations... Current loss: 139.74.\n",
      "5000 iterations... Current loss: 138.62.\n",
      "6000 iterations... Current loss: 139.04.\n",
      "7000 iterations... Current loss: 138.79.\n",
      "8000 iterations... Current loss: 137.96.\n",
      "9000 iterations... Current loss: 139.25.\n",
      "10000 iterations... Current loss: 138.35.\n",
      "11000 iterations... Current loss: 138.81.\n",
      "12000 iterations... Current loss: 139.02.\n",
      "13000 iterations... Current loss: 138.60.\n",
      "14000 iterations... Current loss: 138.80.\n",
      "15000 iterations... Current loss: 137.88.\n",
      "16000 iterations... Current loss: 138.90.\n",
      "\n",
      "Epoch 9/10\n",
      "0 iterations... Current loss: 138.76.\n",
      "1000 iterations... Current loss: 138.96.\n",
      "2000 iterations... Current loss: 138.33.\n",
      "3000 iterations... Current loss: 138.55.\n",
      "4000 iterations... Current loss: 138.33.\n",
      "5000 iterations... Current loss: 138.69.\n",
      "6000 iterations... Current loss: 136.94.\n",
      "7000 iterations... Current loss: 138.55.\n",
      "8000 iterations... Current loss: 139.73.\n",
      "9000 iterations... Current loss: 138.04.\n",
      "10000 iterations... Current loss: 138.73.\n",
      "11000 iterations... Current loss: 137.70.\n",
      "12000 iterations... Current loss: 138.92.\n",
      "13000 iterations... Current loss: 139.31.\n",
      "14000 iterations... Current loss: 138.68.\n",
      "15000 iterations... Current loss: 138.30.\n",
      "16000 iterations... Current loss: 139.81.\n",
      "\n",
      "Epoch 10/10\n",
      "0 iterations... Current loss: 139.40.\n",
      "1000 iterations... Current loss: 139.11.\n",
      "2000 iterations... Current loss: 138.62.\n",
      "3000 iterations... Current loss: 138.16.\n",
      "4000 iterations... Current loss: 137.73.\n",
      "5000 iterations... Current loss: 139.48.\n",
      "6000 iterations... Current loss: 137.81.\n",
      "7000 iterations... Current loss: 138.72.\n",
      "8000 iterations... Current loss: 139.15.\n",
      "9000 iterations... Current loss: 138.39.\n",
      "10000 iterations... Current loss: 139.00.\n",
      "11000 iterations... Current loss: 138.68.\n",
      "12000 iterations... Current loss: 138.60.\n",
      "13000 iterations... Current loss: 139.62.\n",
      "14000 iterations... Current loss: 139.21.\n",
      "15000 iterations... Current loss: 139.36.\n",
      "16000 iterations... Current loss: 138.64.\n",
      "\n"
     ]
    }
   ],
   "source": [
    "losses = trainer.train()"
   ]
  },
  {
   "cell_type": "markdown",
   "metadata": {},
   "source": [
    "# Training loss visualization"
   ]
  },
  {
   "cell_type": "code",
   "execution_count": 9,
   "metadata": {},
   "outputs": [
    {
     "data": {
      "image/png": "[encoded data removed]",
      "text/plain": [
       "<Figure size 720x360 with 1 Axes>"
      ]
     },
     "metadata": {
      "needs_background": "light"
     },
     "output_type": "display_data"
    }
   ],
   "source": [
    "plt.figure(figsize=(10, 5))\n",
    "plt.xticks(range(len(losses)))\n",
    "plt.plot(losses)\n",
    "plt.xlabel('Epoch')\n",
    "plt.ylabel('Loss value')\n",
    "plt.show()"
   ]
  },
  {
   "cell_type": "markdown",
   "metadata": {},
   "source": [
    "# Embedding lookup"
   ]
  },
  {
   "cell_type": "code",
   "execution_count": 10,
   "metadata": {},
   "outputs": [],
   "source": [
    "def get_embedding(trainer, word: str) -> np.ndarray:\n",
    "    idx = trainer.iterator.word2idx.get(word, None)\n",
    "    if idx is not None:\n",
    "        inp = torch.zeros(trainer.vocab_size)\n",
    "        inp[idx] = 1\n",
    "        return trainer.model.WH(inp.to(trainer.device)).detach().cpu().numpy()"
   ]
  },
  {
   "cell_type": "code",
   "execution_count": 11,
   "metadata": {},
   "outputs": [],
   "source": [
    "def get_embeddings(trainer, words: List[str]) -> Tuple[np.ndarray, List[str]]:\n",
    "    embedding_matrix, words_found = [], []\n",
    "    \n",
    "    for word in words:\n",
    "        emb = get_embedding(trainer, word)\n",
    "        if emb is not None:\n",
    "            embedding_matrix.append(emb)\n",
    "            words_found.append(word)\n",
    "    \n",
    "    return np.vstack(embedding_matrix), words_found"
   ]
  },
  {
   "cell_type": "markdown",
   "metadata": {},
   "source": [
    "# Embeddings visualization"
   ]
  },
  {
   "cell_type": "code",
   "execution_count": 12,
   "metadata": {},
   "outputs": [],
   "source": [
    "def plot_embeddings(trainer, words: List[str]):\n",
    "    pca = PCA(2)\n",
    "    embedding_matrix, words_found = get_embeddings(trainer, words)\n",
    "    embedding_pca = pca.fit_transform(embedding_matrix)\n",
    "    \n",
    "    plt.figure(figsize=(10, 5))\n",
    "    for word, embedding in zip(words_found, embedding_pca):\n",
    "        plt.scatter(embedding[0], embedding[1], marker='x', color='red')\n",
    "        plt.text(embedding[0] + 0.01, embedding[1] + 0.01, word, fontsize=9)\n",
    "    plt.show()"
   ]
  },
  {
   "cell_type": "code",
   "execution_count": 13,
   "metadata": {},
   "outputs": [
    {
     "data": {
      "image/png": "[encoded data removed]",
      "text/plain": [
       "<Figure size 720x360 with 1 Axes>"
      ]
     },
     "metadata": {
      "needs_background": "light"
     },
     "output_type": "display_data"
    }
   ],
   "source": [
    "plot_embeddings(trainer, ['school', 'university', 'teacher', 'professor',\n",
    "                          'grade', 'paper', 'class', 'lesson', 'exam', 'prom',\n",
    "                          'academy', 'education', 'college', 'exams', 'gpa',\n",
    "                          'food', 'spaghetti', 'beer', 'wine', 'burger', 'steak'])"
   ]
  },
  {
   "cell_type": "markdown",
   "metadata": {},
   "source": [
    "# Intrinsic evaluation"
   ]
  },
  {
   "cell_type": "code",
   "execution_count": 14,
   "metadata": {},
   "outputs": [],
   "source": [
    "embedding_matrix = np.vstack([\n",
    "    get_embedding(trainer, word) for word in trainer.iterator.word2idx\n",
    "])"
   ]
  },
  {
   "cell_type": "code",
   "execution_count": 15,
   "metadata": {},
   "outputs": [
    {
     "name": "stderr",
     "output_type": "stream",
     "text": [
      "100%|██████████| 19559/19559 [02:55<00:00, 111.57it/s]\n"
     ]
    }
   ],
   "source": [
    "results = {}\n",
    "\n",
    "with open('questions-words.txt', 'r') as f:\n",
    "    for line in tqdm(f.read().split('\\n')):\n",
    "        analogy = line.split()\n",
    "        if not analogy:\n",
    "            continue\n",
    "            \n",
    "        if ':' in line:\n",
    "            curr_topic = analogy[-1]\n",
    "            results[curr_topic] = {'total': 0, 'correct': 0}\n",
    "            continue\n",
    "            \n",
    "        if any(word.lower() not in trainer.iterator.word2idx for word in analogy):\n",
    "            continue\n",
    "\n",
    "        results[curr_topic]['total'] += 1\n",
    "        word1, word2, word3, word4 = analogy\n",
    "        candidate = (get_embedding(trainer, word2.lower()) - get_embedding(trainer, word1.lower()) +\n",
    "                     get_embedding(trainer, word3.lower())).reshape(1, -1)\n",
    "        closest = trainer.iterator.idx2word[\n",
    "            np.argmin(cdist(candidate, embedding_matrix, metric='cosine').reshape(-1))\n",
    "        ]\n",
    "\n",
    "        if closest.lower() == word4.lower():\n",
    "            results[curr_topic]['correct'] += 1"
   ]
  },
  {
   "cell_type": "code",
   "execution_count": 16,
   "metadata": {},
   "outputs": [
    {
     "name": "stdout",
     "output_type": "stream",
     "text": [
      "{'capital-common-countries': {'correct': 60, 'total': 506},\n",
      " 'capital-world': {'correct': 143, 'total': 2839},\n",
      " 'city-in-state': {'correct': 33, 'total': 2060},\n",
      " 'currency': {'correct': 2, 'total': 458},\n",
      " 'family': {'correct': 39, 'total': 342},\n",
      " 'gram1-adjective-to-adverb': {'correct': 0, 'total': 930},\n",
      " 'gram2-opposite': {'correct': 1, 'total': 506},\n",
      " 'gram3-comparative': {'correct': 70, 'total': 1332},\n",
      " 'gram4-superlative': {'correct': 3, 'total': 756},\n",
      " 'gram5-present-participle': {'correct': 5, 'total': 1056},\n",
      " 'gram6-nationality-adjective': {'correct': 658, 'total': 1521},\n",
      " 'gram7-past-tense': {'correct': 15, 'total': 1482},\n",
      " 'gram8-plural': {'correct': 34, 'total': 1190},\n",
      " 'gram9-plural-verbs': {'correct': 15, 'total': 812}}\n"
     ]
    }
   ],
   "source": [
    "pprint(results)"
   ]
  },
  {
   "cell_type": "markdown",
   "metadata": {},
   "source": [
    "Apparently our model is mediocre, to say the least, at resolving analogies. Anyway, it did learn something. If we had a 100 times bigger corpus and 100 times more computational power, we would certainly see better results here."
   ]
  },
  {
   "cell_type": "code",
   "execution_count": null,
   "metadata": {},
   "outputs": [],
   "source": []
  }
 ],
 "metadata": {
  "kernelspec": {
   "display_name": "Python 3",
   "language": "python",
   "name": "python3"
  },
  "language_info": {
   "codemirror_mode": {
    "name": "ipython",
    "version": 3
   },
   "file_extension": ".py",
   "mimetype": "text/x-python",
   "name": "python",
   "nbconvert_exporter": "python",
   "pygments_lexer": "ipython3",
   "version": "3.6.8"
  }
 },
 "nbformat": 4,
 "nbformat_minor": 2
}
